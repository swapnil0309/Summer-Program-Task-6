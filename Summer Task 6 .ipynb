{
 "cells": [
  {
   "cell_type": "code",
   "execution_count": 1,
   "metadata": {},
   "outputs": [],
   "source": [
    "import cv2\n",
    "#for face recognition\n",
    "import time\n",
    "import os\n",
    "import alert"
   ]
  },
  {
   "cell_type": "code",
   "execution_count": 2,
   "metadata": {},
   "outputs": [],
   "source": [
    "model=cv2.CascadeClassifier('haarcascade_frontalface_default.xml')"
   ]
  },
  {
   "cell_type": "code",
   "execution_count": 3,
   "metadata": {},
   "outputs": [],
   "source": [
    "cap = cv2.VideoCapture(0)\n",
    "#connecting to internal webcam"
   ]
  },
  {
   "cell_type": "code",
   "execution_count": 4,
   "metadata": {},
   "outputs": [],
   "source": [
    "while True:\n",
    "    \n",
    "    ret,photo = cap.read()\n",
    "    faces = model.detectMultiScale(photo)\n",
    "    if len(faces) != 0:\n",
    "        for i in faces:\n",
    "            x1 = i[0]\n",
    "            y1 = i[1]\n",
    "            x2 = x1 + i[2]\n",
    "            y2 = y1 + i[3]\n",
    "        aphoto = cv2.rectangle(photo , (x1,y1) , (x2,y2) , [0,255,0] , 5)\n",
    "        cv2.imshow(\"hi\",aphoto)\n",
    "        #automatically breaks the loop when it detects 2 faces \n",
    "        if (len(faces)) >= 2:\n",
    "            break\n",
    "        #when we press enter key it will break the loop\n",
    "        if cv2.waitKey(1) == 13:\n",
    "            break\n",
    "            \n",
    "cv2.destroyAllWindows()\n",
    "cap.release()"
   ]
  },
  {
   "cell_type": "code",
   "execution_count": 5,
   "metadata": {},
   "outputs": [
    {
     "name": "stdout",
     "output_type": "stream",
     "text": [
      "No of faces found :  2\n"
     ]
    }
   ],
   "source": [
    "#when detects 1 face \n",
    "if len(faces) == 1:\n",
    "    #automatically mail to the given mail address.\n",
    "    alert.mail()\n",
    "    #wait for 20 sec\n",
    "    time.sleep(20)\n",
    "    #automatically send whatsapp message to the given whatsapp no\n",
    "    alert.whatsapp()\n",
    "    print (\"No of faces found : \",(len(faces)))\n",
    "#when detects 2 faces \n",
    "elif len(faces) >= 2:\n",
    "    #automatically launch ec2 instance \n",
    "    alert.launch_ec2()\n",
    "    #wait for 20 sec\n",
    "    time.sleep(20)\n",
    "    #automatically create a EBS volume of 5GB\n",
    "    alert.creating_EBS_volume()\n",
    "    print (\"No of faces found : \", (len(faces)))"
   ]
  },
  {
   "cell_type": "code",
   "execution_count": null,
   "metadata": {},
   "outputs": [],
   "source": [
    "THANKYOU"
   ]
  }
 ],
 "metadata": {
  "kernelspec": {
   "display_name": "Python 3",
   "language": "python",
   "name": "python3"
  },
  "language_info": {
   "codemirror_mode": {
    "name": "ipython",
    "version": 3
   },
   "file_extension": ".py",
   "mimetype": "text/x-python",
   "name": "python",
   "nbconvert_exporter": "python",
   "pygments_lexer": "ipython3",
   "version": "3.8.3"
  }
 },
 "nbformat": 4,
 "nbformat_minor": 4
}
